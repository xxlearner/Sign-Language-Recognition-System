{
 "cells": [
  {
   "cell_type": "code",
   "execution_count": 9,
   "metadata": {},
   "outputs": [],
   "source": [
    "import serial\n",
    "from joblib import load\n",
    "from googletrans import Translator\n",
    "\n"
   ]
  },
  {
   "cell_type": "code",
   "execution_count": 12,
   "metadata": {},
   "outputs": [],
   "source": [
    "# Specify the serial port and baud rate (adjust as needed)\n",
    "port = \"COM5\"\n",
    "baudrate = 9600\n",
    "\n",
    "# Load the saved model\n",
    "model = load(r\"C:\\Users\\irash\\OneDrive\\Desktop\\NEWWWWWW\\notebooks\\trained_model_neural_network.joblib\") \n"
   ]
  },
  {
   "cell_type": "code",
   "execution_count": 16,
   "metadata": {},
   "outputs": [
    {
     "name": "stdout",
     "output_type": "stream",
     "text": [
      "Translated Command: के म कल गर्न सक्छु\n",
      "Translated Command: मलाई सहयोग गर\n",
      "Translated Command: मलाई भोक लाग्यो\n",
      "Translated Command: मलाई सहयोग गर\n",
      "Translated Command: मलाई तिर्खा लागेको छ\n",
      "Translated Command: के म कल गर्न सक्छु\n",
      "Translated Command: ठिक छ\n"
     ]
    },
    {
     "ename": "KeyboardInterrupt",
     "evalue": "",
     "output_type": "error",
     "traceback": [
      "\u001b[1;31m---------------------------------------------------------------------------\u001b[0m",
      "\u001b[1;31mKeyboardInterrupt\u001b[0m                         Traceback (most recent call last)",
      "Cell \u001b[1;32mIn[16], line 12\u001b[0m\n\u001b[0;32m      9\u001b[0m \u001b[38;5;28;01mwhile\u001b[39;00m \u001b[38;5;28;01mTrue\u001b[39;00m:\n\u001b[0;32m     10\u001b[0m     \u001b[38;5;28;01mtry\u001b[39;00m:\n\u001b[0;32m     11\u001b[0m         \u001b[38;5;66;03m# Read data from the serial port\u001b[39;00m\n\u001b[1;32m---> 12\u001b[0m         data_line \u001b[38;5;241m=\u001b[39m \u001b[43mser\u001b[49m\u001b[38;5;241;43m.\u001b[39;49m\u001b[43mreadline\u001b[49m\u001b[43m(\u001b[49m\u001b[43m)\u001b[49m\u001b[38;5;241m.\u001b[39mdecode(\u001b[38;5;124m'\u001b[39m\u001b[38;5;124mutf-8\u001b[39m\u001b[38;5;124m'\u001b[39m)\u001b[38;5;241m.\u001b[39mstrip()\n\u001b[0;32m     14\u001b[0m         \u001b[38;5;66;03m# Convert data to list of integers\u001b[39;00m\n\u001b[0;32m     15\u001b[0m         data_list \u001b[38;5;241m=\u001b[39m [\u001b[38;5;28mint\u001b[39m(x) \u001b[38;5;28;01mfor\u001b[39;00m x \u001b[38;5;129;01min\u001b[39;00m data_line\u001b[38;5;241m.\u001b[39msplit()]\n",
      "File \u001b[1;32m~\\AppData\\Roaming\\Python\\Python311\\site-packages\\serial\\serialwin32.py:288\u001b[0m, in \u001b[0;36mSerial.read\u001b[1;34m(self, size)\u001b[0m\n\u001b[0;32m    286\u001b[0m \u001b[38;5;28;01mif\u001b[39;00m \u001b[38;5;129;01mnot\u001b[39;00m read_ok \u001b[38;5;129;01mand\u001b[39;00m win32\u001b[38;5;241m.\u001b[39mGetLastError() \u001b[38;5;129;01mnot\u001b[39;00m \u001b[38;5;129;01min\u001b[39;00m (win32\u001b[38;5;241m.\u001b[39mERROR_SUCCESS, win32\u001b[38;5;241m.\u001b[39mERROR_IO_PENDING):\n\u001b[0;32m    287\u001b[0m     \u001b[38;5;28;01mraise\u001b[39;00m SerialException(\u001b[38;5;124m\"\u001b[39m\u001b[38;5;124mReadFile failed (\u001b[39m\u001b[38;5;132;01m{!r}\u001b[39;00m\u001b[38;5;124m)\u001b[39m\u001b[38;5;124m\"\u001b[39m\u001b[38;5;241m.\u001b[39mformat(ctypes\u001b[38;5;241m.\u001b[39mWinError()))\n\u001b[1;32m--> 288\u001b[0m result_ok \u001b[38;5;241m=\u001b[39m \u001b[43mwin32\u001b[49m\u001b[38;5;241;43m.\u001b[39;49m\u001b[43mGetOverlappedResult\u001b[49m\u001b[43m(\u001b[49m\n\u001b[0;32m    289\u001b[0m \u001b[43m    \u001b[49m\u001b[38;5;28;43mself\u001b[39;49m\u001b[38;5;241;43m.\u001b[39;49m\u001b[43m_port_handle\u001b[49m\u001b[43m,\u001b[49m\n\u001b[0;32m    290\u001b[0m \u001b[43m    \u001b[49m\u001b[43mctypes\u001b[49m\u001b[38;5;241;43m.\u001b[39;49m\u001b[43mbyref\u001b[49m\u001b[43m(\u001b[49m\u001b[38;5;28;43mself\u001b[39;49m\u001b[38;5;241;43m.\u001b[39;49m\u001b[43m_overlapped_read\u001b[49m\u001b[43m)\u001b[49m\u001b[43m,\u001b[49m\n\u001b[0;32m    291\u001b[0m \u001b[43m    \u001b[49m\u001b[43mctypes\u001b[49m\u001b[38;5;241;43m.\u001b[39;49m\u001b[43mbyref\u001b[49m\u001b[43m(\u001b[49m\u001b[43mrc\u001b[49m\u001b[43m)\u001b[49m\u001b[43m,\u001b[49m\n\u001b[0;32m    292\u001b[0m \u001b[43m    \u001b[49m\u001b[38;5;28;43;01mTrue\u001b[39;49;00m\u001b[43m)\u001b[49m\n\u001b[0;32m    293\u001b[0m \u001b[38;5;28;01mif\u001b[39;00m \u001b[38;5;129;01mnot\u001b[39;00m result_ok:\n\u001b[0;32m    294\u001b[0m     \u001b[38;5;28;01mif\u001b[39;00m win32\u001b[38;5;241m.\u001b[39mGetLastError() \u001b[38;5;241m!=\u001b[39m win32\u001b[38;5;241m.\u001b[39mERROR_OPERATION_ABORTED:\n",
      "\u001b[1;31mKeyboardInterrupt\u001b[0m: "
     ]
    }
   ],
   "source": [
    "# Initialize the previous command variable\n",
    "prev_command = None\n",
    "\n",
    "# Open the serial port\n",
    "with serial.Serial(port, baudrate) as ser:\n",
    "    # Initialize Translator\n",
    "    translator = Translator()\n",
    "    \n",
    "    while True:\n",
    "        try:\n",
    "            # Read data from the serial port\n",
    "            data_line = ser.readline().decode('utf-8').strip()\n",
    "\n",
    "            # Convert data to list of integers\n",
    "            data_list = [int(x) for x in data_line.split()]\n",
    "\n",
    "            # Predict the gesture (assuming model.predict returns an integer)\n",
    "            prediction = model.predict([data_list])[0]\n",
    "            \n",
    "            # Map the integer prediction to corresponding commands\n",
    "            if prediction == 0:\n",
    "                command = \"Help me\"\n",
    "            elif prediction == 1:\n",
    "                command = \"I am thirsty\"\n",
    "            elif prediction == 2:\n",
    "                command = \"I am hungry\"\n",
    "            elif prediction == 3:\n",
    "                command = \"Can I call\"\n",
    "            elif prediction == 4:\n",
    "                command = \"Ok\"\n",
    "            elif prediction == 5:\n",
    "                command = \"Don't go\"\n",
    "            \n",
    "            # Check if the current command is different from the previous one\n",
    "            if command != prev_command:\n",
    "                # Translate the command to Nepali\n",
    "                translation = translator.translate(command, src='en', dest='ne')\n",
    "                translated_command = translation.text\n",
    "                \n",
    "                # Print the translated command\n",
    "                print(f\"Translated Command: {translated_command}\")\n",
    "\n",
    "                # Send the translated command back to Arduino\n",
    "                # ser.write(translated_command.encode())  # Encode and send if needed\n",
    "                # Send the translated command back to Arduino with UTF-8 encoding\n",
    "                ser.write(translated_command.encode('utf-8'))\n",
    "     \n",
    "                # Update the previous command\n",
    "                prev_command = command\n",
    "\n",
    "        except Exception as e:\n",
    "            print(f\"Error: {e}\")\n",
    "            break"
   ]
  }
 ],
 "metadata": {
  "kernelspec": {
   "display_name": "Python 3",
   "language": "python",
   "name": "python3"
  },
  "language_info": {
   "codemirror_mode": {
    "name": "ipython",
    "version": 3
   },
   "file_extension": ".py",
   "mimetype": "text/x-python",
   "name": "python",
   "nbconvert_exporter": "python",
   "pygments_lexer": "ipython3",
   "version": "3.11.1"
  }
 },
 "nbformat": 4,
 "nbformat_minor": 2
}
